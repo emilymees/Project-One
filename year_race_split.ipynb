{
 "cells": [
  {
   "cell_type": "code",
   "execution_count": 2,
   "metadata": {},
   "outputs": [],
   "source": [
    "import pandas as pd \n",
    "from pathlib import Path \n"
   ]
  },
  {
   "cell_type": "code",
   "execution_count": 3,
   "metadata": {},
   "outputs": [],
   "source": [
    "# All ethnicities broken out per year (2015-2019)\n",
    "\n",
    "all_race_2015 = pd.read_csv(\"Each_Year_CSV/2015_all_sex_all_race.csv\", skiprows=2)\n",
    "all_race_2016 = pd.read_csv(\"Each_Year_CSV/2016_all_sex_all_race.csv\", skiprows=2)\n",
    "all_race_2017 = pd.read_csv(\"Each_Year_CSV/2017_all_sex_all_race.csv\", skiprows=2)\n",
    "all_race_2018 = pd.read_csv(\"Each_Year_CSV/2018_all_sex_all_race.csv\", skiprows=2)\n",
    "all_race_2019 = pd.read_csv(\"Each_Year_CSV/2019_all_sex_all_race.csv\", skiprows=2)"
   ]
  },
  {
   "cell_type": "code",
   "execution_count": 4,
   "metadata": {},
   "outputs": [],
   "source": [
    "# NH White broken out per year (2015-2019)\n",
    "\n",
    "NHwhite_2015 = pd.read_csv(\"Each_Year_CSV/2015_all_sex_NHwhite.csv\", skiprows=2)\n",
    "NHwhite_2016 = pd.read_csv(\"Each_Year_CSV/2016_all_sex_NHwhite.csv\", skiprows=2)\n",
    "NHwhite_2017 = pd.read_csv(\"Each_Year_CSV/2017_all_sex_NHwhite.csv\", skiprows=2)\n",
    "NHwhite_2018 = pd.read_csv(\"Each_Year_CSV/2018_all_sex_NHwhite.csv\", skiprows=2)\n",
    "NHwhite_2019 = pd.read_csv(\"Each_Year_CSV/2019_all_sex_NHwhite.csv\", skiprows=2)"
   ]
  },
  {
   "cell_type": "code",
   "execution_count": 5,
   "metadata": {},
   "outputs": [],
   "source": [
    "# NH Black broken out per year (2015-2019)\n",
    "\n",
    "NHblack_2015 = pd.read_csv(\"Each_Year_CSV/2015_all_sex_NHblack.csv\", skiprows=2)\n",
    "NHblack_2016 = pd.read_csv(\"Each_Year_CSV/2016_all_sex_NHblack.csv\", skiprows=2)\n",
    "NHblack_2017 = pd.read_csv(\"Each_Year_CSV/2017_all_sex_NHblack.csv\", skiprows=2)\n",
    "NHblack_2018 = pd.read_csv(\"Each_Year_CSV/2018_all_sex_NHblack.csv\", skiprows=2)\n",
    "NHblack_2019 = pd.read_csv(\"Each_Year_CSV/2019_all_sex_NHblack.csv\", skiprows=2)"
   ]
  },
  {
   "cell_type": "code",
   "execution_count": 6,
   "metadata": {},
   "outputs": [],
   "source": [
    "# Hispanic broken out per year (2015-2019)\n",
    "\n",
    "hispanic_2015 = pd.read_csv(\"Each_Year_CSV/2015_all_sex_hispanic.csv\", skiprows=2)\n",
    "hispanic_2016 = pd.read_csv(\"Each_Year_CSV/2016_all_sex_hispanic.csv\", skiprows=2)\n",
    "hispanic_2017 = pd.read_csv(\"Each_Year_CSV/2017_all_sex_hispanic.csv\", skiprows=2)\n",
    "hispanic_2018 = pd.read_csv(\"Each_Year_CSV/2018_all_sex_hispanic.csv\", skiprows=2)\n",
    "hispanic_2019 = pd.read_csv(\"Each_Year_CSV/2019_all_sex_hispanic.csv\", skiprows=2)"
   ]
  },
  {
   "cell_type": "code",
   "execution_count": 7,
   "metadata": {},
   "outputs": [],
   "source": [
    "# NH Asian/PI broken out per year (2015-2019)\n",
    "\n",
    "NHasianPI_2015 = pd.read_csv(\"Each_Year_CSV/2015_all_sex_NHasian-pi.csv\", skiprows=2)\n",
    "NHasianPI_2016 = pd.read_csv(\"Each_Year_CSV/2016_all_sex_NHasian-pi.csv\", skiprows=2)\n",
    "NHasianPI_2017 = pd.read_csv(\"Each_Year_CSV/2017_all_sex_NHasian-pi.csv\", skiprows=2)\n",
    "NHasianPI_2018 = pd.read_csv(\"Each_Year_CSV/2018_all_sex_NHasian-pi.csv\", skiprows=2)\n",
    "NHasianPI_2019 = pd.read_csv(\"Each_Year_CSV/2019_all_sex_NHasian-pi.csv\", skiprows=2)"
   ]
  },
  {
   "cell_type": "code",
   "execution_count": null,
   "metadata": {},
   "outputs": [],
   "source": []
  }
 ],
 "metadata": {
  "kernelspec": {
   "display_name": "EdX",
   "language": "python",
   "name": "python3"
  },
  "language_info": {
   "codemirror_mode": {
    "name": "ipython",
    "version": 3
   },
   "file_extension": ".py",
   "mimetype": "text/x-python",
   "name": "python",
   "nbconvert_exporter": "python",
   "pygments_lexer": "ipython3",
   "version": "3.10.11"
  },
  "orig_nbformat": 4
 },
 "nbformat": 4,
 "nbformat_minor": 2
}
