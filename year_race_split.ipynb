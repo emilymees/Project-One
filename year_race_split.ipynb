{
 "cells": [
  {
   "cell_type": "code",
   "execution_count": 1,
   "metadata": {},
   "outputs": [],
   "source": [
    "import pandas as pd \n",
    "from pathlib import Path \n"
   ]
  },
  {
   "cell_type": "code",
   "execution_count": 5,
   "metadata": {},
   "outputs": [
    {
     "data": {
      "text/html": [
       "<div>\n",
       "<style scoped>\n",
       "    .dataframe tbody tr th:only-of-type {\n",
       "        vertical-align: middle;\n",
       "    }\n",
       "\n",
       "    .dataframe tbody tr th {\n",
       "        vertical-align: top;\n",
       "    }\n",
       "\n",
       "    .dataframe thead th {\n",
       "        text-align: right;\n",
       "    }\n",
       "</style>\n",
       "<table border=\"1\" class=\"dataframe\">\n",
       "  <thead>\n",
       "    <tr style=\"text-align: right;\">\n",
       "      <th></th>\n",
       "      <th>County</th>\n",
       "      <th>Population at Risk</th>\n",
       "      <th>Cases</th>\n",
       "      <th>Crude Rate</th>\n",
       "      <th>Age-adjusted Rate</th>\n",
       "      <th>95% Confidence Interval-Lower Limit</th>\n",
       "      <th>95% Confidence Interval-Upper Limit</th>\n",
       "    </tr>\n",
       "  </thead>\n",
       "  <tbody>\n",
       "    <tr>\n",
       "      <th>0</th>\n",
       "      <td>Collingsworth</td>\n",
       "      <td>3007.0</td>\n",
       "      <td>~</td>\n",
       "      <td>~</td>\n",
       "      <td>~</td>\n",
       "      <td>~</td>\n",
       "      <td>~</td>\n",
       "    </tr>\n",
       "    <tr>\n",
       "      <th>1</th>\n",
       "      <td>Blanco</td>\n",
       "      <td>11030.0</td>\n",
       "      <td>20</td>\n",
       "      <td>181.3</td>\n",
       "      <td>136.8</td>\n",
       "      <td>77.5</td>\n",
       "      <td>225.9</td>\n",
       "    </tr>\n",
       "    <tr>\n",
       "      <th>2</th>\n",
       "      <td>Hall</td>\n",
       "      <td>3093.0</td>\n",
       "      <td>~</td>\n",
       "      <td>~</td>\n",
       "      <td>~</td>\n",
       "      <td>~</td>\n",
       "      <td>~</td>\n",
       "    </tr>\n",
       "    <tr>\n",
       "      <th>3</th>\n",
       "      <td>Cottle</td>\n",
       "      <td>1437.0</td>\n",
       "      <td>~</td>\n",
       "      <td>~</td>\n",
       "      <td>~</td>\n",
       "      <td>~</td>\n",
       "      <td>~</td>\n",
       "    </tr>\n",
       "    <tr>\n",
       "      <th>4</th>\n",
       "      <td>Mason</td>\n",
       "      <td>4063.0</td>\n",
       "      <td>~</td>\n",
       "      <td>~</td>\n",
       "      <td>~</td>\n",
       "      <td>~</td>\n",
       "      <td>~</td>\n",
       "    </tr>\n",
       "  </tbody>\n",
       "</table>\n",
       "</div>"
      ],
      "text/plain": [
       "          County  Population at Risk Cases Crude Rate Age-adjusted Rate  \\\n",
       "0  Collingsworth              3007.0     ~          ~                 ~   \n",
       "1         Blanco             11030.0    20      181.3             136.8   \n",
       "2           Hall              3093.0     ~          ~                 ~   \n",
       "3         Cottle              1437.0     ~          ~                 ~   \n",
       "4          Mason              4063.0     ~          ~                 ~   \n",
       "\n",
       "  95% Confidence Interval-Lower Limit 95% Confidence Interval-Upper Limit  \n",
       "0                                   ~                                   ~  \n",
       "1                                77.5                               225.9  \n",
       "2                                   ~                                   ~  \n",
       "3                                   ~                                   ~  \n",
       "4                                   ~                                   ~  "
      ]
     },
     "execution_count": 5,
     "metadata": {},
     "output_type": "execute_result"
    }
   ],
   "source": [
    "# All ethnicities broken out per year (2015-2019)\n",
    "\n",
    "all_race_2015 = pd.read_csv(\"Each_Year_CSV/2015_all_sex_all_race.csv\", skiprows=2)\n",
    "all_race_2016 = pd.read_csv(\"Each_Year_CSV/2016_all_sex_all_race.csv\", skiprows=2)\n",
    "all_race_2017 = pd.read_csv(\"Each_Year_CSV/2017_all_sex_all_race.csv\", skiprows=2)\n",
    "all_race_2018 = pd.read_csv(\"Each_Year_CSV/2018_all_sex_all_race.csv\", skiprows=2)\n",
    "all_race_2019 = pd.read_csv(\"Each_Year_CSV/2019_all_sex_all_race.csv\", skiprows=2)"
   ]
  },
  {
   "cell_type": "code",
   "execution_count": null,
   "metadata": {},
   "outputs": [],
   "source": []
  }
 ],
 "metadata": {
  "kernelspec": {
   "display_name": "EdX",
   "language": "python",
   "name": "python3"
  },
  "language_info": {
   "codemirror_mode": {
    "name": "ipython",
    "version": 3
   },
   "file_extension": ".py",
   "mimetype": "text/x-python",
   "name": "python",
   "nbconvert_exporter": "python",
   "pygments_lexer": "ipython3",
   "version": "3.10.11"
  },
  "orig_nbformat": 4
 },
 "nbformat": 4,
 "nbformat_minor": 2
}
